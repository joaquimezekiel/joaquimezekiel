{
 "cells": [
  {
   "cell_type": "code",
   "execution_count": 15,
   "id": "c4f33791",
   "metadata": {},
   "outputs": [
    {
     "name": "stdout",
     "output_type": "stream",
     "text": [
      "Enter room length, m: 5\n",
      "Enter room width, m: 6\n",
      "How much building materials are needed to cover the entire floor of the room, sq.m:  30.0\n",
      "How much baseboard we should have that will be installed into the room, m:  22.0\n"
     ]
    }
   ],
   "source": [
    "s1=float(input(\"Enter room length, m: \"))\n",
    "s2=float(input(\"Enter room width, m: \"))\n",
    "area=s1*s2\n",
    "perimeter=2*(s1+s2)\n",
    "print(\"How much building materials are needed to cover the entire floor of the room, sq.m: \",area)\n",
    "print(\"How much baseboard we should have that will be installed into the room, m: \",perimeter)"
   ]
  }
 ],
 "metadata": {
  "kernelspec": {
   "display_name": "Python 3 (ipykernel)",
   "language": "python",
   "name": "python3"
  },
  "language_info": {
   "codemirror_mode": {
    "name": "ipython",
    "version": 3
   },
   "file_extension": ".py",
   "mimetype": "text/x-python",
   "name": "python",
   "nbconvert_exporter": "python",
   "pygments_lexer": "ipython3",
   "version": "3.9.7"
  }
 },
 "nbformat": 4,
 "nbformat_minor": 5
}
